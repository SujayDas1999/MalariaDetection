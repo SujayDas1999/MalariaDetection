{
 "cells": [
  {
   "cell_type": "code",
   "execution_count": 1,
   "metadata": {
    "_cell_guid": "b1076dfc-b9ad-4769-8c92-a6c4dae69d19",
    "_uuid": "8f2839f25d086af736a60e9eeb907d3b93b6e0e5"
   },
   "outputs": [
    {
     "name": "stdout",
     "output_type": "stream",
     "text": [
      "['cell_images']\n"
     ]
    }
   ],
   "source": [
    "\n",
    "import numpy as np \n",
    "import pandas as pd \n",
    "import os\n",
    "print(os.listdir(\"../input\"))\n",
    "\n"
   ]
  },
  {
   "cell_type": "code",
   "execution_count": 2,
   "metadata": {},
   "outputs": [
    {
     "name": "stderr",
     "output_type": "stream",
     "text": [
      "Using TensorFlow backend.\n"
     ]
    }
   ],
   "source": [
    "import cv2\n",
    "%matplotlib inline\n",
    "import matplotlib.pyplot as plt\n",
    "import keras\n",
    "import keras.backend as K\n",
    "from keras.layers import Input,Dense,Conv2D,MaxPooling2D,Dropout,Flatten,BatchNormalization,Activation\n",
    "from keras.layers.merge import add\n",
    "from keras.models import Model,Sequential\n",
    "from sklearn.model_selection import train_test_split"
   ]
  },
  {
   "cell_type": "code",
   "execution_count": 3,
   "metadata": {},
   "outputs": [],
   "source": [
    "import glob"
   ]
  },
  {
   "cell_type": "code",
   "execution_count": 4,
   "metadata": {},
   "outputs": [],
   "source": [
    "uninfected = glob.glob(\"../input/cell_images/cell_images/Uninfected/*.png\")\n",
    "parasitized = glob.glob(\"../input/cell_images/cell_images/Parasitized/*.png\")"
   ]
  },
  {
   "cell_type": "code",
   "execution_count": 5,
   "metadata": {
    "_kg_hide-input": false
   },
   "outputs": [
    {
     "data": {
      "text/plain": [
       "['Uninfected', 'Parasitized']"
      ]
     },
     "execution_count": 5,
     "metadata": {},
     "output_type": "execute_result"
    }
   ],
   "source": [
    "os.listdir(\"../input/cell_images/cell_images/\")"
   ]
  },
  {
   "cell_type": "code",
   "execution_count": 6,
   "metadata": {},
   "outputs": [],
   "source": [
    "uninfected_imgs = [cv2.imread(i,0) for i in uninfected]\n",
    "parasitized_imgs = [cv2.imread(i,0) for i in parasitized]"
   ]
  },
  {
   "cell_type": "code",
   "execution_count": 7,
   "metadata": {},
   "outputs": [],
   "source": [
    "uninfected_imgs = [cv2.resize(i,(100,100),interpolation = cv2.INTER_AREA).reshape((100,100,1)) for i in uninfected_imgs]\n",
    "parasitized_imgs = [cv2.resize(i,(100,100),interpolation = cv2.INTER_AREA).reshape((100,100,1)) for i in parasitized_imgs]"
   ]
  },
  {
   "cell_type": "code",
   "execution_count": 8,
   "metadata": {},
   "outputs": [],
   "source": [
    "uninfected_imgs = np.array(uninfected_imgs)\n",
    "parasitized_imgs = np.array(parasitized_imgs)"
   ]
  },
  {
   "cell_type": "code",
   "execution_count": 9,
   "metadata": {},
   "outputs": [
    {
     "name": "stdout",
     "output_type": "stream",
     "text": [
      "(13779, 100, 100, 1)\n",
      "(13779, 100, 100, 1)\n"
     ]
    }
   ],
   "source": [
    "print(uninfected_imgs.shape)\n",
    "print(parasitized_imgs.shape)"
   ]
  },
  {
   "cell_type": "code",
   "execution_count": 10,
   "metadata": {},
   "outputs": [
    {
     "name": "stdout",
     "output_type": "stream",
     "text": [
      "27558\n",
      "(27558, 2)\n"
     ]
    }
   ],
   "source": [
    "a = [[i,np.array([0,1])] for i in uninfected_imgs]\n",
    "a += [[i,np.array([1,0])] for i in parasitized_imgs]\n",
    "print(len(a))\n",
    "a = np.array(a)\n",
    "print(a.shape)"
   ]
  },
  {
   "cell_type": "code",
   "execution_count": 11,
   "metadata": {},
   "outputs": [],
   "source": [
    "for i in range(25):\n",
    "    np.random.shuffle(a)"
   ]
  },
  {
   "cell_type": "code",
   "execution_count": 12,
   "metadata": {},
   "outputs": [
    {
     "name": "stdout",
     "output_type": "stream",
     "text": [
      "(27558, 100, 100, 1)\n",
      "(27558, 2)\n"
     ]
    }
   ],
   "source": [
    "X = np.array([i[0] for i in a])\n",
    "Y = np.array([i[1] for i in a])\n",
    "X.reshape((27558,1,100,100))\n",
    "print(X.shape)\n",
    "print(Y.shape)\n",
    "\n"
   ]
  },
  {
   "cell_type": "code",
   "execution_count": 13,
   "metadata": {},
   "outputs": [
    {
     "data": {
      "text/plain": [
       "(2,)"
      ]
     },
     "execution_count": 13,
     "metadata": {},
     "output_type": "execute_result"
    }
   ],
   "source": [
    "Y[0].shape"
   ]
  },
  {
   "cell_type": "code",
   "execution_count": 14,
   "metadata": {},
   "outputs": [],
   "source": [
    "from sklearn.model_selection import train_test_split"
   ]
  },
  {
   "cell_type": "code",
   "execution_count": 15,
   "metadata": {},
   "outputs": [],
   "source": [
    "X_train, X_test, Y_train, Y_test = train_test_split(X, Y, test_size=0.33, random_state=42)"
   ]
  },
  {
   "cell_type": "code",
   "execution_count": 16,
   "metadata": {},
   "outputs": [
    {
     "data": {
      "text/plain": [
       "(18463, 100, 100, 1)"
      ]
     },
     "execution_count": 16,
     "metadata": {},
     "output_type": "execute_result"
    }
   ],
   "source": [
    "X_train.shape"
   ]
  },
  {
   "cell_type": "code",
   "execution_count": 17,
   "metadata": {},
   "outputs": [
    {
     "name": "stdout",
     "output_type": "stream",
     "text": [
      "WARNING:tensorflow:From /opt/conda/lib/python3.6/site-packages/tensorflow/python/framework/op_def_library.py:263: colocate_with (from tensorflow.python.framework.ops) is deprecated and will be removed in a future version.\n",
      "Instructions for updating:\n",
      "Colocations handled automatically by placer.\n",
      "WARNING:tensorflow:From /opt/conda/lib/python3.6/site-packages/keras/backend/tensorflow_backend.py:3445: calling dropout (from tensorflow.python.ops.nn_ops) with keep_prob is deprecated and will be removed in a future version.\n",
      "Instructions for updating:\n",
      "Please use `rate` instead of `keep_prob`. Rate should be set to `rate = 1 - keep_prob`.\n",
      "_________________________________________________________________\n",
      "Layer (type)                 Output Shape              Param #   \n",
      "=================================================================\n",
      "conv2d_1 (Conv2D)            (None, 33, 33, 128)       1280      \n",
      "_________________________________________________________________\n",
      "conv2d_2 (Conv2D)            (None, 11, 11, 64)        73792     \n",
      "_________________________________________________________________\n",
      "dropout_1 (Dropout)          (None, 11, 11, 64)        0         \n",
      "_________________________________________________________________\n",
      "conv2d_3 (Conv2D)            (None, 3, 3, 32)          18464     \n",
      "_________________________________________________________________\n",
      "max_pooling2d_1 (MaxPooling2 (None, 1, 1, 32)          0         \n",
      "_________________________________________________________________\n",
      "flatten_1 (Flatten)          (None, 32)                0         \n",
      "_________________________________________________________________\n",
      "dense_1 (Dense)              (None, 256)               8448      \n",
      "_________________________________________________________________\n",
      "dense_2 (Dense)              (None, 2)                 514       \n",
      "=================================================================\n",
      "Total params: 102,498\n",
      "Trainable params: 102,498\n",
      "Non-trainable params: 0\n",
      "_________________________________________________________________\n"
     ]
    }
   ],
   "source": [
    "model = Sequential()\n",
    "model.add(Conv2D(128,(3,3),input_shape = (100,100,1),strides = 3,activation = \"relu\"))\n",
    "# model.add(MaxPooling2D(pool_size = 2))\n",
    "# model.add(Dropout(0.3))\n",
    "model.add(Conv2D(64,(3,3),strides = 3,activation = \"relu\"))\n",
    "# model.add(MaxPooling2D(pool_size = 2))\n",
    "model.add(Dropout(0.3))\n",
    "model.add(Conv2D(32,(3,3),strides = 3,activation = \"relu\"))\n",
    "model.add(MaxPooling2D(pool_size = 2))\n",
    "# model.add(Dropout(0.3))\n",
    "model.add(Flatten())\n",
    "model.add(Dense(256,activation = \"relu\"))\n",
    "model.add(Dense(2,activation = \"softmax\"))\n",
    "model.summary()"
   ]
  },
  {
   "cell_type": "code",
   "execution_count": 18,
   "metadata": {},
   "outputs": [],
   "source": [
    "model.compile(loss = \"categorical_crossentropy\",optimizer = \"Adam\",metrics = [\"accuracy\"])"
   ]
  },
  {
   "cell_type": "code",
   "execution_count": 19,
   "metadata": {},
   "outputs": [],
   "source": [
    "X_train = X_train.astype(\"float32\")/255.0\n",
    "X_test = X_test.astype(\"float32\")/255.0"
   ]
  },
  {
   "cell_type": "code",
   "execution_count": 20,
   "metadata": {},
   "outputs": [
    {
     "name": "stdout",
     "output_type": "stream",
     "text": [
      "WARNING:tensorflow:From /opt/conda/lib/python3.6/site-packages/tensorflow/python/ops/math_ops.py:3066: to_int32 (from tensorflow.python.ops.math_ops) is deprecated and will be removed in a future version.\n",
      "Instructions for updating:\n",
      "Use tf.cast instead.\n",
      "Train on 15139 samples, validate on 3324 samples\n",
      "Epoch 1/30\n",
      "15139/15139 [==============================] - 5s 333us/step - loss: 0.6897 - acc: 0.5389 - val_loss: 0.6839 - val_acc: 0.5421\n",
      "Epoch 2/30\n",
      "15139/15139 [==============================] - 2s 108us/step - loss: 0.6652 - acc: 0.5957 - val_loss: 0.6325 - val_acc: 0.6477\n",
      "Epoch 3/30\n",
      "15139/15139 [==============================] - 2s 109us/step - loss: 0.6427 - acc: 0.6273 - val_loss: 0.6494 - val_acc: 0.6197\n",
      "Epoch 4/30\n",
      "15139/15139 [==============================] - 2s 108us/step - loss: 0.6265 - acc: 0.6465 - val_loss: 0.6130 - val_acc: 0.6694\n",
      "Epoch 5/30\n",
      "15139/15139 [==============================] - 2s 109us/step - loss: 0.6085 - acc: 0.6668 - val_loss: 0.6052 - val_acc: 0.6733\n",
      "Epoch 6/30\n",
      "15139/15139 [==============================] - 2s 108us/step - loss: 0.5839 - acc: 0.6894 - val_loss: 0.6255 - val_acc: 0.6634\n",
      "Epoch 7/30\n",
      "15139/15139 [==============================] - 2s 108us/step - loss: 0.5506 - acc: 0.7134 - val_loss: 0.5292 - val_acc: 0.7238\n",
      "Epoch 8/30\n",
      "15139/15139 [==============================] - 2s 109us/step - loss: 0.5163 - acc: 0.7295 - val_loss: 0.5142 - val_acc: 0.7380\n",
      "Epoch 9/30\n",
      "15139/15139 [==============================] - 2s 109us/step - loss: 0.5001 - acc: 0.7464 - val_loss: 0.5009 - val_acc: 0.7437\n",
      "Epoch 10/30\n",
      "15139/15139 [==============================] - 2s 108us/step - loss: 0.4935 - acc: 0.7469 - val_loss: 0.4912 - val_acc: 0.7485\n",
      "Epoch 11/30\n",
      "15139/15139 [==============================] - 2s 109us/step - loss: 0.4821 - acc: 0.7580 - val_loss: 0.4915 - val_acc: 0.7434\n",
      "Epoch 12/30\n",
      "15139/15139 [==============================] - 2s 108us/step - loss: 0.4803 - acc: 0.7594 - val_loss: 0.4743 - val_acc: 0.7644\n",
      "Epoch 13/30\n",
      "15139/15139 [==============================] - 2s 109us/step - loss: 0.4712 - acc: 0.7643 - val_loss: 0.4707 - val_acc: 0.7693\n",
      "Epoch 14/30\n",
      "15139/15139 [==============================] - 2s 109us/step - loss: 0.4646 - acc: 0.7684 - val_loss: 0.4641 - val_acc: 0.7741\n",
      "Epoch 15/30\n",
      "15139/15139 [==============================] - 2s 109us/step - loss: 0.4598 - acc: 0.7743 - val_loss: 0.4584 - val_acc: 0.7810\n",
      "Epoch 16/30\n",
      "15139/15139 [==============================] - 2s 108us/step - loss: 0.4550 - acc: 0.7763 - val_loss: 0.4654 - val_acc: 0.7780\n",
      "Epoch 17/30\n",
      "15139/15139 [==============================] - 2s 109us/step - loss: 0.4494 - acc: 0.7800 - val_loss: 0.4629 - val_acc: 0.7753\n",
      "Epoch 18/30\n",
      "15139/15139 [==============================] - 2s 108us/step - loss: 0.4452 - acc: 0.7824 - val_loss: 0.4580 - val_acc: 0.7744\n",
      "Epoch 19/30\n",
      "15139/15139 [==============================] - 2s 108us/step - loss: 0.4467 - acc: 0.7815 - val_loss: 0.4602 - val_acc: 0.7759\n",
      "Epoch 20/30\n",
      "15139/15139 [==============================] - 2s 110us/step - loss: 0.4391 - acc: 0.7858 - val_loss: 0.4617 - val_acc: 0.7759\n",
      "Epoch 21/30\n",
      "15139/15139 [==============================] - 2s 116us/step - loss: 0.4414 - acc: 0.7823 - val_loss: 0.4603 - val_acc: 0.7723\n",
      "Epoch 22/30\n",
      "15139/15139 [==============================] - 2s 118us/step - loss: 0.4299 - acc: 0.7940 - val_loss: 0.4895 - val_acc: 0.7512\n",
      "Epoch 23/30\n",
      "15139/15139 [==============================] - 2s 117us/step - loss: 0.4336 - acc: 0.7918 - val_loss: 0.4993 - val_acc: 0.7223\n",
      "Epoch 24/30\n",
      "15139/15139 [==============================] - 2s 118us/step - loss: 0.4280 - acc: 0.7940 - val_loss: 0.4632 - val_acc: 0.7756\n",
      "Epoch 25/30\n",
      "15139/15139 [==============================] - 2s 117us/step - loss: 0.4220 - acc: 0.7990 - val_loss: 0.4728 - val_acc: 0.7608\n",
      "Epoch 26/30\n",
      "15139/15139 [==============================] - 2s 118us/step - loss: 0.4301 - acc: 0.7932 - val_loss: 0.4619 - val_acc: 0.7756\n",
      "Epoch 27/30\n",
      "15139/15139 [==============================] - 2s 115us/step - loss: 0.4151 - acc: 0.8020 - val_loss: 0.4662 - val_acc: 0.7741\n",
      "Epoch 28/30\n",
      "15139/15139 [==============================] - 2s 114us/step - loss: 0.4158 - acc: 0.7988 - val_loss: 0.4678 - val_acc: 0.7711\n",
      "Epoch 29/30\n",
      "15139/15139 [==============================] - 2s 114us/step - loss: 0.4144 - acc: 0.8056 - val_loss: 0.4636 - val_acc: 0.7702\n",
      "Epoch 30/30\n",
      "15139/15139 [==============================] - 2s 114us/step - loss: 0.4089 - acc: 0.8049 - val_loss: 0.4590 - val_acc: 0.7771\n"
     ]
    },
    {
     "data": {
      "text/plain": [
       "<keras.callbacks.History at 0x7f4a3809f278>"
      ]
     },
     "execution_count": 20,
     "metadata": {},
     "output_type": "execute_result"
    }
   ],
   "source": [
    "model.fit(X_train,Y_train,batch_size = 80,epochs = 30,validation_split = 0.18)"
   ]
  },
  {
   "cell_type": "code",
   "execution_count": 21,
   "metadata": {},
   "outputs": [
    {
     "name": "stdout",
     "output_type": "stream",
     "text": [
      "9095/9095 [==============================] - 1s 77us/step\n",
      "Accuracy : 77.46\n"
     ]
    }
   ],
   "source": [
    "acc = model.evaluate(X_test,Y_test)\n",
    "print(\"Accuracy : {:.2f}\".format(acc[1]*100))"
   ]
  },
  {
   "cell_type": "markdown",
   "metadata": {},
   "source": [
    "**Model:Light-vgg**"
   ]
  },
  {
   "cell_type": "code",
   "execution_count": 22,
   "metadata": {},
   "outputs": [
    {
     "name": "stdout",
     "output_type": "stream",
     "text": [
      "_________________________________________________________________\n",
      "Layer (type)                 Output Shape              Param #   \n",
      "=================================================================\n",
      "conv2d_4 (Conv2D)            (None, 100, 100, 64)      640       \n",
      "_________________________________________________________________\n",
      "conv2d_5 (Conv2D)            (None, 100, 100, 64)      36928     \n",
      "_________________________________________________________________\n",
      "max_pooling2d_2 (MaxPooling2 (None, 50, 50, 64)        0         \n",
      "_________________________________________________________________\n",
      "conv2d_6 (Conv2D)            (None, 50, 50, 128)       73856     \n",
      "_________________________________________________________________\n",
      "max_pooling2d_3 (MaxPooling2 (None, 25, 25, 128)       0         \n",
      "_________________________________________________________________\n",
      "conv2d_7 (Conv2D)            (None, 25, 25, 512)       590336    \n",
      "_________________________________________________________________\n",
      "max_pooling2d_4 (MaxPooling2 (None, 12, 12, 512)       0         \n",
      "_________________________________________________________________\n",
      "dropout_2 (Dropout)          (None, 12, 12, 512)       0         \n",
      "_________________________________________________________________\n",
      "flatten_2 (Flatten)          (None, 73728)             0         \n",
      "_________________________________________________________________\n",
      "dense_3 (Dense)              (None, 128)               9437312   \n",
      "_________________________________________________________________\n",
      "dropout_3 (Dropout)          (None, 128)               0         \n",
      "_________________________________________________________________\n",
      "dense_4 (Dense)              (None, 64)                8256      \n",
      "_________________________________________________________________\n",
      "dropout_4 (Dropout)          (None, 64)                0         \n",
      "_________________________________________________________________\n",
      "dense_5 (Dense)              (None, 2)                 130       \n",
      "=================================================================\n",
      "Total params: 10,147,458\n",
      "Trainable params: 10,147,458\n",
      "Non-trainable params: 0\n",
      "_________________________________________________________________\n"
     ]
    }
   ],
   "source": [
    "# K.clear_session()\n",
    "\n",
    "model1 = Sequential()\n",
    "\n",
    "model1.add(Conv2D(filters=64, kernel_size=3, padding='same', activation='relu', input_shape=(100,100,1)))\n",
    "model1.add(Conv2D(filters=64, kernel_size=3, padding='same', activation='relu'))\n",
    "model1.add(MaxPooling2D(pool_size=(2,2)))\n",
    "\n",
    "model1.add(Conv2D(filters=128, kernel_size=3, padding='same', activation='relu'))\n",
    "model1.add(MaxPooling2D(pool_size=(2,2)))\n",
    "\n",
    "model1.add(Conv2D(filters=512, kernel_size=3, padding='same', activation='relu'))\n",
    "model1.add(MaxPooling2D(pool_size=(2,2)))\n",
    "\n",
    "model1.add(Dropout(0.3))\n",
    "\n",
    "model1.add(Flatten())\n",
    "model1.add(Dense(128, activation='relu'))\n",
    "\n",
    "model1.add(Dropout(0.2))\n",
    "model1.add(Dense((64)))\n",
    "\n",
    "model1.add(Dropout(0.2))\n",
    "model1.add(Dense(2, activation='softmax'))\n",
    "\n",
    "model1.summary()"
   ]
  },
  {
   "cell_type": "code",
   "execution_count": 23,
   "metadata": {},
   "outputs": [],
   "source": [
    "import keras\n",
    "adam =  keras.optimizers.Adam(lr=0.0001)\n",
    "model1.compile(optimizer=adam, loss='categorical_crossentropy', metrics=['accuracy'])"
   ]
  },
  {
   "cell_type": "code",
   "execution_count": 24,
   "metadata": {},
   "outputs": [
    {
     "name": "stdout",
     "output_type": "stream",
     "text": [
      "Epoch 1/30\n",
      "18463/18463 [==============================] - 18s 982us/step - loss: 0.6137 - acc: 0.6431\n",
      "Epoch 2/30\n",
      "18463/18463 [==============================] - 16s 880us/step - loss: 0.2735 - acc: 0.8939\n",
      "Epoch 3/30\n",
      "18463/18463 [==============================] - 16s 883us/step - loss: 0.1831 - acc: 0.9377\n",
      "Epoch 4/30\n",
      "18463/18463 [==============================] - 16s 881us/step - loss: 0.1577 - acc: 0.9458\n",
      "Epoch 5/30\n",
      "18463/18463 [==============================] - 16s 883us/step - loss: 0.1499 - acc: 0.9491\n",
      "Epoch 6/30\n",
      "18463/18463 [==============================] - 16s 880us/step - loss: 0.1402 - acc: 0.9523\n",
      "Epoch 7/30\n",
      "18463/18463 [==============================] - 16s 880us/step - loss: 0.1299 - acc: 0.9549\n",
      "Epoch 8/30\n",
      "18463/18463 [==============================] - 16s 880us/step - loss: 0.1224 - acc: 0.9573\n",
      "Epoch 9/30\n",
      "18463/18463 [==============================] - 16s 880us/step - loss: 0.1172 - acc: 0.9600\n",
      "Epoch 10/30\n",
      "18463/18463 [==============================] - 16s 884us/step - loss: 0.1070 - acc: 0.9635\n",
      "Epoch 11/30\n",
      "18463/18463 [==============================] - 16s 881us/step - loss: 0.1027 - acc: 0.9645\n",
      "Epoch 12/30\n",
      "18463/18463 [==============================] - 16s 881us/step - loss: 0.0924 - acc: 0.9673\n",
      "Epoch 13/30\n",
      "18463/18463 [==============================] - 16s 889us/step - loss: 0.0809 - acc: 0.9715\n",
      "Epoch 14/30\n",
      "18463/18463 [==============================] - 16s 889us/step - loss: 0.0727 - acc: 0.9742\n",
      "Epoch 15/30\n",
      "18463/18463 [==============================] - 16s 892us/step - loss: 0.0650 - acc: 0.9772\n",
      "Epoch 16/30\n",
      "18463/18463 [==============================] - 16s 890us/step - loss: 0.0583 - acc: 0.9803\n",
      "Epoch 17/30\n",
      "18463/18463 [==============================] - 16s 890us/step - loss: 0.0465 - acc: 0.9836\n",
      "Epoch 18/30\n",
      "18463/18463 [==============================] - 16s 893us/step - loss: 0.0418 - acc: 0.9844\n",
      "Epoch 19/30\n",
      "18463/18463 [==============================] - 17s 895us/step - loss: 0.0366 - acc: 0.9875\n",
      "Epoch 20/30\n",
      "18463/18463 [==============================] - 16s 893us/step - loss: 0.0284 - acc: 0.9899\n",
      "Epoch 21/30\n",
      "18463/18463 [==============================] - 16s 890us/step - loss: 0.0229 - acc: 0.9925\n",
      "Epoch 22/30\n",
      "18463/18463 [==============================] - 16s 892us/step - loss: 0.0213 - acc: 0.9932\n",
      "Epoch 23/30\n",
      "18463/18463 [==============================] - 16s 890us/step - loss: 0.0197 - acc: 0.9937\n",
      "Epoch 24/30\n",
      "13760/18463 [=====================>........] - ETA: 4s - loss: 0.0172 - acc: 0.9939"
     ]
    }
   ],
   "source": [
    "model1.fit(X_train,Y_train, batch_size=80, epochs=30,verbose=1)\n"
   ]
  },
  {
   "cell_type": "code",
   "execution_count": 25,
   "metadata": {},
   "outputs": [
    {
     "name": "stdout",
     "output_type": "stream",
     "text": [
      "9095/9095 [==============================] - 3s 348us/step\n"
     ]
    }
   ],
   "source": [
    "acc = model1.evaluate(X_test,Y_test)"
   ]
  },
  {
   "cell_type": "code",
   "execution_count": 26,
   "metadata": {},
   "outputs": [
    {
     "name": "stdout",
     "output_type": "stream",
     "text": [
      "Accuracy : 94.58\n"
     ]
    }
   ],
   "source": [
    "print(\"Accuracy : {:.2f}\".format(acc[1]*100))"
   ]
  },
  {
   "cell_type": "code",
   "execution_count": 27,
   "metadata": {},
   "outputs": [
    {
     "name": "stdout",
     "output_type": "stream",
     "text": [
      "_________________________________________________________________\n",
      "Layer (type)                 Output Shape              Param #   \n",
      "=================================================================\n",
      "conv2d_8 (Conv2D)            (None, 34, 34, 64)        640       \n",
      "_________________________________________________________________\n",
      "conv2d_9 (Conv2D)            (None, 12, 12, 128)       73856     \n",
      "_________________________________________________________________\n",
      "conv2d_10 (Conv2D)           (None, 4, 4, 256)         295168    \n",
      "_________________________________________________________________\n",
      "max_pooling2d_5 (MaxPooling2 (None, 2, 2, 256)         0         \n",
      "_________________________________________________________________\n",
      "dropout_5 (Dropout)          (None, 2, 2, 256)         0         \n",
      "_________________________________________________________________\n",
      "conv2d_11 (Conv2D)           (None, 1, 1, 512)         1180160   \n",
      "_________________________________________________________________\n",
      "dropout_6 (Dropout)          (None, 1, 1, 512)         0         \n",
      "_________________________________________________________________\n",
      "flatten_3 (Flatten)          (None, 512)               0         \n",
      "_________________________________________________________________\n",
      "dropout_7 (Dropout)          (None, 512)               0         \n",
      "_________________________________________________________________\n",
      "dense_6 (Dense)              (None, 512)               262656    \n",
      "_________________________________________________________________\n",
      "dropout_8 (Dropout)          (None, 512)               0         \n",
      "_________________________________________________________________\n",
      "dense_7 (Dense)              (None, 256)               131328    \n",
      "_________________________________________________________________\n",
      "dense_8 (Dense)              (None, 64)                16448     \n",
      "_________________________________________________________________\n",
      "dense_9 (Dense)              (None, 2)                 130       \n",
      "=================================================================\n",
      "Total params: 1,960,386\n",
      "Trainable params: 1,960,386\n",
      "Non-trainable params: 0\n",
      "_________________________________________________________________\n"
     ]
    }
   ],
   "source": [
    "model3 = Sequential()\n",
    "model3.add(Conv2D(64,(3,3),strides = 3,input_shape = (100,100,1),padding = \"same\",activation = \"relu\"))\n",
    "model3.add(Conv2D(128,(3,3),strides = 3,padding = \"same\",activation = \"relu\"))\n",
    "model3.add(Conv2D(256,(3,3),strides = 3,padding = \"same\",activation = \"relu\"))\n",
    "model3.add(MaxPooling2D((2,2)))\n",
    "model3.add(Dropout(0.3))\n",
    "model3.add(Conv2D(512,(3,3),strides = 3,padding = \"same\",activation = \"relu\"))\n",
    "# model3.add(MaxPooling2D((2,2)))\n",
    "model3.add(Dropout(0.3))\n",
    "model3.add(Flatten())\n",
    "model3.add(Dropout(0.2))\n",
    "model3.add(Dense(512,activation = \"relu\"))\n",
    "model3.add(Dropout(0.2))\n",
    "model3.add(Dense(256,activation = \"relu\"))\n",
    "# model3.add(Dropout(0.2))\n",
    "model3.add(Dense(64,activation = \"relu\"))\n",
    "# model3.add(Dropout(0.2))\n",
    "model3.add(Dense(2,activation = \"softmax\"))\n",
    "model3.summary()\n",
    "\n",
    "\n",
    "\n",
    "\n",
    "\n",
    "\n"
   ]
  },
  {
   "cell_type": "code",
   "execution_count": 28,
   "metadata": {},
   "outputs": [],
   "source": [
    "model3.compile(optimizer = \"Adam\",loss = \"categorical_crossentropy\",metrics = [\"accuracy\"])\n",
    "# model1.compile(optimizer=adam, loss='categorical_crossentropy', metrics=['accuracy'])"
   ]
  },
  {
   "cell_type": "code",
   "execution_count": 29,
   "metadata": {},
   "outputs": [
    {
     "name": "stdout",
     "output_type": "stream",
     "text": [
      "Train on 14955 samples, validate on 3508 samples\n",
      "Epoch 1/50\n",
      "14955/14955 [==============================] - 4s 244us/step - loss: 0.6800 - acc: 0.5476 - val_loss: 0.6732 - val_acc: 0.5932\n",
      "Epoch 2/50\n",
      "14955/14955 [==============================] - 3s 187us/step - loss: 0.6518 - acc: 0.6183 - val_loss: 0.6340 - val_acc: 0.6306\n",
      "Epoch 3/50\n",
      "14955/14955 [==============================] - 3s 187us/step - loss: 0.5816 - acc: 0.6915 - val_loss: 0.4863 - val_acc: 0.7774\n",
      "Epoch 4/50\n",
      "14955/14955 [==============================] - 3s 188us/step - loss: 0.2879 - acc: 0.8876 - val_loss: 0.2137 - val_acc: 0.9276\n",
      "Epoch 5/50\n",
      "14955/14955 [==============================] - 3s 187us/step - loss: 0.1904 - acc: 0.9383 - val_loss: 0.2029 - val_acc: 0.9279\n",
      "Epoch 6/50\n",
      "14955/14955 [==============================] - 4s 260us/step - loss: 0.1714 - acc: 0.9450 - val_loss: 0.1725 - val_acc: 0.9438\n",
      "Epoch 7/50\n",
      "14955/14955 [==============================] - 3s 230us/step - loss: 0.1539 - acc: 0.9493 - val_loss: 0.1719 - val_acc: 0.9447\n",
      "Epoch 8/50\n",
      "14955/14955 [==============================] - 3s 188us/step - loss: 0.1445 - acc: 0.9515 - val_loss: 0.1681 - val_acc: 0.9447\n",
      "Epoch 9/50\n",
      "14955/14955 [==============================] - 3s 187us/step - loss: 0.1385 - acc: 0.9541 - val_loss: 0.1919 - val_acc: 0.9336\n",
      "Epoch 10/50\n",
      "14955/14955 [==============================] - 3s 187us/step - loss: 0.1289 - acc: 0.9572 - val_loss: 0.1752 - val_acc: 0.9407\n",
      "Epoch 11/50\n",
      "14955/14955 [==============================] - 3s 187us/step - loss: 0.1248 - acc: 0.9581 - val_loss: 0.1737 - val_acc: 0.9430\n",
      "Epoch 12/50\n",
      "14955/14955 [==============================] - 3s 188us/step - loss: 0.1157 - acc: 0.9601 - val_loss: 0.1836 - val_acc: 0.9444\n",
      "Epoch 13/50\n",
      "14955/14955 [==============================] - 3s 188us/step - loss: 0.1110 - acc: 0.9612 - val_loss: 0.1822 - val_acc: 0.9413\n",
      "Epoch 14/50\n",
      "14955/14955 [==============================] - 3s 187us/step - loss: 0.1006 - acc: 0.9652 - val_loss: 0.2240 - val_acc: 0.9458\n",
      "Epoch 15/50\n",
      "14955/14955 [==============================] - 3s 188us/step - loss: 0.0929 - acc: 0.9680 - val_loss: 0.2060 - val_acc: 0.9347\n",
      "Epoch 16/50\n",
      "14955/14955 [==============================] - 3s 187us/step - loss: 0.0924 - acc: 0.9692 - val_loss: 0.1972 - val_acc: 0.9444\n",
      "Epoch 17/50\n",
      "14955/14955 [==============================] - 3s 195us/step - loss: 0.0784 - acc: 0.9716 - val_loss: 0.2172 - val_acc: 0.9399\n",
      "Epoch 18/50\n",
      "14955/14955 [==============================] - 3s 199us/step - loss: 0.0730 - acc: 0.9741 - val_loss: 0.1950 - val_acc: 0.9364\n",
      "Epoch 19/50\n",
      "14955/14955 [==============================] - 3s 199us/step - loss: 0.0753 - acc: 0.9738 - val_loss: 0.2384 - val_acc: 0.9453\n",
      "Epoch 20/50\n",
      "14955/14955 [==============================] - 3s 195us/step - loss: 0.0622 - acc: 0.9795 - val_loss: 0.2210 - val_acc: 0.9438\n",
      "Epoch 21/50\n",
      "14955/14955 [==============================] - 3s 188us/step - loss: 0.0591 - acc: 0.9785 - val_loss: 0.2468 - val_acc: 0.9393\n",
      "Epoch 22/50\n",
      "14955/14955 [==============================] - 3s 187us/step - loss: 0.0573 - acc: 0.9814 - val_loss: 0.2134 - val_acc: 0.9450\n",
      "Epoch 23/50\n",
      "14955/14955 [==============================] - 3s 188us/step - loss: 0.0468 - acc: 0.9844 - val_loss: 0.2723 - val_acc: 0.9453\n",
      "Epoch 24/50\n",
      "14955/14955 [==============================] - 3s 187us/step - loss: 0.0450 - acc: 0.9836 - val_loss: 0.3048 - val_acc: 0.9336\n",
      "Epoch 25/50\n",
      "14955/14955 [==============================] - 3s 187us/step - loss: 0.0422 - acc: 0.9854 - val_loss: 0.3069 - val_acc: 0.9436\n",
      "Epoch 26/50\n",
      "14955/14955 [==============================] - 3s 189us/step - loss: 0.0448 - acc: 0.9856 - val_loss: 0.2630 - val_acc: 0.9396\n",
      "Epoch 27/50\n",
      "14955/14955 [==============================] - 3s 188us/step - loss: 0.0379 - acc: 0.9876 - val_loss: 0.3293 - val_acc: 0.9410\n",
      "Epoch 28/50\n",
      "14955/14955 [==============================] - 3s 187us/step - loss: 0.0442 - acc: 0.9850 - val_loss: 0.3110 - val_acc: 0.9384\n",
      "Epoch 29/50\n",
      "14955/14955 [==============================] - 3s 188us/step - loss: 0.0290 - acc: 0.9895 - val_loss: 0.2962 - val_acc: 0.9444\n",
      "Epoch 30/50\n",
      "14955/14955 [==============================] - 3s 188us/step - loss: 0.0290 - acc: 0.9906 - val_loss: 0.2954 - val_acc: 0.9441\n",
      "Epoch 31/50\n",
      "14955/14955 [==============================] - 3s 188us/step - loss: 0.0403 - acc: 0.9862 - val_loss: 0.3516 - val_acc: 0.9453\n",
      "Epoch 32/50\n",
      "14955/14955 [==============================] - 3s 187us/step - loss: 0.0312 - acc: 0.9892 - val_loss: 0.3048 - val_acc: 0.9430\n",
      "Epoch 33/50\n",
      "14955/14955 [==============================] - 3s 187us/step - loss: 0.0273 - acc: 0.9915 - val_loss: 0.3432 - val_acc: 0.9467\n",
      "Epoch 34/50\n",
      "14955/14955 [==============================] - 3s 192us/step - loss: 0.0270 - acc: 0.9912 - val_loss: 0.3779 - val_acc: 0.9447\n",
      "Epoch 35/50\n",
      "14955/14955 [==============================] - 3s 203us/step - loss: 0.0276 - acc: 0.9912 - val_loss: 0.3212 - val_acc: 0.9333\n",
      "Epoch 36/50\n",
      "14955/14955 [==============================] - 3s 203us/step - loss: 0.0213 - acc: 0.9926 - val_loss: 0.3431 - val_acc: 0.9361\n",
      "Epoch 37/50\n",
      "14955/14955 [==============================] - 3s 204us/step - loss: 0.0229 - acc: 0.9923 - val_loss: 0.3613 - val_acc: 0.9401\n",
      "Epoch 38/50\n",
      "14955/14955 [==============================] - 3s 195us/step - loss: 0.0231 - acc: 0.9928 - val_loss: 0.3253 - val_acc: 0.9404\n",
      "Epoch 39/50\n",
      "14955/14955 [==============================] - 3s 189us/step - loss: 0.0277 - acc: 0.9910 - val_loss: 0.3680 - val_acc: 0.9390\n",
      "Epoch 40/50\n",
      "14955/14955 [==============================] - 3s 188us/step - loss: 0.0253 - acc: 0.9918 - val_loss: 0.3529 - val_acc: 0.9396\n",
      "Epoch 41/50\n",
      "14955/14955 [==============================] - 3s 188us/step - loss: 0.0205 - acc: 0.9939 - val_loss: 0.2979 - val_acc: 0.9364\n",
      "Epoch 42/50\n",
      "14955/14955 [==============================] - 3s 187us/step - loss: 0.0169 - acc: 0.9945 - val_loss: 0.4131 - val_acc: 0.9424\n",
      "Epoch 43/50\n",
      "14955/14955 [==============================] - 3s 188us/step - loss: 0.0197 - acc: 0.9937 - val_loss: 0.3865 - val_acc: 0.9424\n",
      "Epoch 44/50\n",
      "14955/14955 [==============================] - 3s 188us/step - loss: 0.0167 - acc: 0.9947 - val_loss: 0.3255 - val_acc: 0.9390\n",
      "Epoch 45/50\n",
      "14955/14955 [==============================] - 3s 193us/step - loss: 0.0181 - acc: 0.9947 - val_loss: 0.4380 - val_acc: 0.9416\n",
      "Epoch 46/50\n",
      "14955/14955 [==============================] - 3s 199us/step - loss: 0.0175 - acc: 0.9944 - val_loss: 0.3937 - val_acc: 0.9441\n",
      "Epoch 47/50\n",
      "14955/14955 [==============================] - 3s 201us/step - loss: 0.0161 - acc: 0.9952 - val_loss: 0.4129 - val_acc: 0.9396\n",
      "Epoch 48/50\n",
      "14955/14955 [==============================] - 3s 197us/step - loss: 0.0213 - acc: 0.9930 - val_loss: 0.3703 - val_acc: 0.9438\n",
      "Epoch 49/50\n",
      "14955/14955 [==============================] - 3s 188us/step - loss: 0.0186 - acc: 0.9943 - val_loss: 0.3680 - val_acc: 0.9404\n",
      "Epoch 50/50\n",
      "14955/14955 [==============================] - 3s 187us/step - loss: 0.0195 - acc: 0.9942 - val_loss: 0.3427 - val_acc: 0.9393\n"
     ]
    },
    {
     "data": {
      "text/plain": [
       "<keras.callbacks.History at 0x7f49c5f02630>"
      ]
     },
     "execution_count": 29,
     "metadata": {},
     "output_type": "execute_result"
    }
   ],
   "source": [
    "model3.fit(X_train,Y_train,batch_size = 50,epochs = 50,validation_split = 0.19)"
   ]
  },
  {
   "cell_type": "code",
   "execution_count": 30,
   "metadata": {},
   "outputs": [
    {
     "name": "stdout",
     "output_type": "stream",
     "text": [
      "9095/9095 [==============================] - 1s 85us/step\n",
      "Model 3 Accuracy : 94.14\n"
     ]
    }
   ],
   "source": [
    "acc3 = model3.evaluate(X_test,Y_test)\n",
    "print(\"Model 3 Accuracy : {:.2f}\".format(acc3[1]*100))"
   ]
  },
  {
   "cell_type": "code",
   "execution_count": 31,
   "metadata": {},
   "outputs": [
    {
     "name": "stdout",
     "output_type": "stream",
     "text": [
      "_________________________________________________________________\n",
      "Layer (type)                 Output Shape              Param #   \n",
      "=================================================================\n",
      "conv2d_12 (Conv2D)           (None, 100, 100, 16)      80        \n",
      "_________________________________________________________________\n",
      "max_pooling2d_6 (MaxPooling2 (None, 50, 50, 16)        0         \n",
      "_________________________________________________________________\n",
      "conv2d_13 (Conv2D)           (None, 50, 50, 32)        2080      \n",
      "_________________________________________________________________\n",
      "max_pooling2d_7 (MaxPooling2 (None, 25, 25, 32)        0         \n",
      "_________________________________________________________________\n",
      "conv2d_14 (Conv2D)           (None, 25, 25, 64)        8256      \n",
      "_________________________________________________________________\n",
      "max_pooling2d_8 (MaxPooling2 (None, 12, 12, 64)        0         \n",
      "_________________________________________________________________\n",
      "dropout_9 (Dropout)          (None, 12, 12, 64)        0         \n",
      "_________________________________________________________________\n",
      "flatten_4 (Flatten)          (None, 9216)              0         \n",
      "_________________________________________________________________\n",
      "dense_10 (Dense)             (None, 500)               4608500   \n",
      "_________________________________________________________________\n",
      "dropout_10 (Dropout)         (None, 500)               0         \n",
      "_________________________________________________________________\n",
      "dense_11 (Dense)             (None, 2)                 1002      \n",
      "=================================================================\n",
      "Total params: 4,619,918\n",
      "Trainable params: 4,619,918\n",
      "Non-trainable params: 0\n",
      "_________________________________________________________________\n"
     ]
    }
   ],
   "source": [
    "model4=Sequential()\n",
    "model4.add(Conv2D(filters=16,kernel_size=2,padding=\"same\",activation=\"relu\",input_shape=(100,100,1)))\n",
    "model4.add(MaxPooling2D(pool_size=2))\n",
    "model4.add(Conv2D(filters=32,kernel_size=2,padding=\"same\",activation=\"relu\"))\n",
    "model4.add(MaxPooling2D(pool_size=2))\n",
    "model4.add(Conv2D(filters=64,kernel_size=2,padding=\"same\",activation=\"relu\"))\n",
    "model4.add(MaxPooling2D(pool_size=2))\n",
    "model4.add(Dropout(0.2))\n",
    "model4.add(Flatten())\n",
    "model4.add(Dense(500,activation=\"relu\"))\n",
    "model4.add(Dropout(0.2))\n",
    "model4.add(Dense(2,activation=\"softmax\"))#2 represent output layer neurons \n",
    "model4.summary()\n"
   ]
  },
  {
   "cell_type": "code",
   "execution_count": 32,
   "metadata": {},
   "outputs": [],
   "source": [
    "model4.compile(loss='categorical_crossentropy', optimizer='adam', metrics=['accuracy'])"
   ]
  },
  {
   "cell_type": "code",
   "execution_count": 33,
   "metadata": {},
   "outputs": [
    {
     "name": "stdout",
     "output_type": "stream",
     "text": [
      "Train on 15139 samples, validate on 3324 samples\n",
      "Epoch 1/20\n",
      "15139/15139 [==============================] - 4s 268us/step - loss: 0.6522 - acc: 0.6109 - val_loss: 0.5844 - val_acc: 0.6760\n",
      "Epoch 2/20\n",
      "15139/15139 [==============================] - 3s 211us/step - loss: 0.4277 - acc: 0.8028 - val_loss: 0.2483 - val_acc: 0.9088\n",
      "Epoch 3/20\n",
      "15139/15139 [==============================] - 3s 215us/step - loss: 0.2097 - acc: 0.9273 - val_loss: 0.2248 - val_acc: 0.9170\n",
      "Epoch 4/20\n",
      "15139/15139 [==============================] - 3s 204us/step - loss: 0.1786 - acc: 0.9372 - val_loss: 0.2024 - val_acc: 0.9329\n",
      "Epoch 5/20\n",
      "15139/15139 [==============================] - 3s 202us/step - loss: 0.1454 - acc: 0.9499 - val_loss: 0.1752 - val_acc: 0.9395\n",
      "Epoch 6/20\n",
      "15139/15139 [==============================] - 3s 204us/step - loss: 0.1266 - acc: 0.9544 - val_loss: 0.1667 - val_acc: 0.9383\n",
      "Epoch 7/20\n",
      "15139/15139 [==============================] - 3s 204us/step - loss: 0.1117 - acc: 0.9601 - val_loss: 0.1724 - val_acc: 0.9404\n",
      "Epoch 8/20\n",
      "15139/15139 [==============================] - 3s 203us/step - loss: 0.0985 - acc: 0.9649 - val_loss: 0.1747 - val_acc: 0.9398\n",
      "Epoch 9/20\n",
      "15139/15139 [==============================] - 3s 203us/step - loss: 0.0810 - acc: 0.9718 - val_loss: 0.2065 - val_acc: 0.9353\n",
      "Epoch 10/20\n",
      "15139/15139 [==============================] - 3s 203us/step - loss: 0.0597 - acc: 0.9781 - val_loss: 0.2080 - val_acc: 0.9410\n",
      "Epoch 11/20\n",
      "15139/15139 [==============================] - 3s 204us/step - loss: 0.0488 - acc: 0.9823 - val_loss: 0.2037 - val_acc: 0.9395\n",
      "Epoch 12/20\n",
      "15139/15139 [==============================] - 3s 204us/step - loss: 0.0380 - acc: 0.9869 - val_loss: 0.2278 - val_acc: 0.9365\n",
      "Epoch 13/20\n",
      "15139/15139 [==============================] - 3s 204us/step - loss: 0.0292 - acc: 0.9902 - val_loss: 0.2366 - val_acc: 0.9410\n",
      "Epoch 14/20\n",
      "15139/15139 [==============================] - 3s 203us/step - loss: 0.0262 - acc: 0.9906 - val_loss: 0.2550 - val_acc: 0.9419\n",
      "Epoch 15/20\n",
      "15139/15139 [==============================] - 3s 202us/step - loss: 0.0192 - acc: 0.9935 - val_loss: 0.3333 - val_acc: 0.9395\n",
      "Epoch 16/20\n",
      "15139/15139 [==============================] - 3s 205us/step - loss: 0.0205 - acc: 0.9933 - val_loss: 0.2852 - val_acc: 0.9395\n",
      "Epoch 17/20\n",
      "15139/15139 [==============================] - 3s 203us/step - loss: 0.0112 - acc: 0.9969 - val_loss: 0.3026 - val_acc: 0.9383\n",
      "Epoch 18/20\n",
      "15139/15139 [==============================] - 3s 203us/step - loss: 0.0104 - acc: 0.9968 - val_loss: 0.3100 - val_acc: 0.9389\n",
      "Epoch 19/20\n",
      "15139/15139 [==============================] - 3s 203us/step - loss: 0.0135 - acc: 0.9956 - val_loss: 0.3078 - val_acc: 0.9392\n",
      "Epoch 20/20\n",
      "15139/15139 [==============================] - 3s 207us/step - loss: 0.0088 - acc: 0.9974 - val_loss: 0.3380 - val_acc: 0.9395\n"
     ]
    },
    {
     "data": {
      "text/plain": [
       "<keras.callbacks.History at 0x7f49c5f02c50>"
      ]
     },
     "execution_count": 33,
     "metadata": {},
     "output_type": "execute_result"
    }
   ],
   "source": [
    "model4.fit(X_train,Y_train,batch_size=50,epochs=20,verbose=1,validation_split = 0.18)\n"
   ]
  },
  {
   "cell_type": "code",
   "execution_count": 34,
   "metadata": {},
   "outputs": [
    {
     "name": "stdout",
     "output_type": "stream",
     "text": [
      "9095/9095 [==============================] - 1s 92us/step\n",
      "Model 3=4 Accuracy : 94.51\n"
     ]
    }
   ],
   "source": [
    "acc4 = model4.evaluate(X_test,Y_test)\n",
    "print(\"Model 3=4 Accuracy : {:.2f}\".format(acc4[1]*100))"
   ]
  },
  {
   "cell_type": "markdown",
   "metadata": {},
   "source": []
  },
  {
   "cell_type": "code",
   "execution_count": null,
   "metadata": {},
   "outputs": [],
   "source": []
  },
  {
   "cell_type": "code",
   "execution_count": null,
   "metadata": {},
   "outputs": [],
   "source": []
  },
  {
   "cell_type": "code",
   "execution_count": null,
   "metadata": {},
   "outputs": [],
   "source": []
  },
  {
   "cell_type": "code",
   "execution_count": null,
   "metadata": {},
   "outputs": [],
   "source": []
  }
 ],
 "metadata": {
  "kernelspec": {
   "display_name": "Python 3",
   "language": "python",
   "name": "python3"
  },
  "language_info": {
   "codemirror_mode": {
    "name": "ipython",
    "version": 3
   },
   "file_extension": ".py",
   "mimetype": "text/x-python",
   "name": "python",
   "nbconvert_exporter": "python",
   "pygments_lexer": "ipython3",
   "version": "3.7.4"
  }
 },
 "nbformat": 4,
 "nbformat_minor": 1
}
